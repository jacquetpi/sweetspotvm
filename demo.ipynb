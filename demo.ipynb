{
 "cells": [
  {
   "cell_type": "markdown",
   "id": "c9ca423c",
   "metadata": {},
   "source": [
    "# Demonstration"
   ]
  },
  {
   "cell_type": "markdown",
   "id": "e20f7dbc",
   "metadata": {},
   "source": [
    "This notebook guides you on how to reproduce figure 5 of the paper"
   ]
  },
  {
   "cell_type": "markdown",
   "id": "7435a8e3",
   "metadata": {},
   "source": [
    "Section ```Local scheduler - Offline mode``` from README file must have been previously followed"
   ]
  },
  {
   "cell_type": "code",
   "execution_count": null,
   "id": "f3a60a57",
   "metadata": {},
   "outputs": [],
   "source": [
    "import pandas as pd\n",
    "import os.path\n",
    "import numpy as np\n",
    "import matplotlib.pyplot as plt\n",
    "import seaborn as sns"
   ]
  },
  {
   "cell_type": "code",
   "execution_count": null,
   "id": "7a62dd20",
   "metadata": {},
   "outputs": [],
   "source": [
    "dataset = pd.read_csv('debug/monitoring.csv', sep='\\t')\n",
    "\n",
    "keys_as_float = ['tmp', 'val', 'config', 'sb_oc', 'sb_unused']\n",
    "for key in keys_as_float: dataset[key] = dataset[key].apply(lambda x : None if x == 'None' else float(x))\n",
    "dataset['time'] = dataset['tmp'] / 60"
   ]
  },
  {
   "cell_type": "code",
   "execution_count": null,
   "id": "053382e2",
   "metadata": {},
   "outputs": [],
   "source": [
    "subsets = dataset.loc[dataset['rec'] == 'subset']\n",
    "subsets_cpu = subsets.loc[subsets['res'] == 'cpu']\n",
    "subsets_mem = subsets.loc[subsets['res'] == 'mem']"
   ]
  },
  {
   "cell_type": "code",
   "execution_count": null,
   "id": "fc7d2d00",
   "metadata": {},
   "outputs": [],
   "source": [
    "palette = sns.color_palette(\"Set2\", subsets_cpu['subset'].nunique())\n",
    "\n",
    "g_val = sns.lineplot(data=subsets_cpu, x='tmp', y='val', hue='subset', palette=palette, linestyle='--', legend=False, alpha=0.5)\n",
    "g_config = sns.lineplot(data=subsets_cpu, x='tmp', y='config', hue='subset', palette=palette)\n",
    "g_config.legend(loc='upper right', title=None)\n",
    "\n",
    "plt.xlim([0, 30000])\n",
    "plt.ylim([0, 140])\n",
    "g_config.set_ylabel('cores')\n",
    "g_config.set_xlabel('time')\n",
    "res = g_config.set_xticklabels([])"
   ]
  }
 ],
 "metadata": {
  "kernelspec": {
   "display_name": "Python 3 (ipykernel)",
   "language": "python",
   "name": "python3"
  },
  "language_info": {
   "codemirror_mode": {
    "name": "ipython",
    "version": 3
   },
   "file_extension": ".py",
   "mimetype": "text/x-python",
   "name": "python",
   "nbconvert_exporter": "python",
   "pygments_lexer": "ipython3",
   "version": "3.10.12"
  }
 },
 "nbformat": 4,
 "nbformat_minor": 5
}
