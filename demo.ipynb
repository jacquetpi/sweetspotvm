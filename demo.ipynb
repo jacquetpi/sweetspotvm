{
 "cells": [
  {
   "cell_type": "markdown",
   "id": "c9ca423c",
   "metadata": {},
   "source": [
    "# Demonstration"
   ]
  },
  {
   "cell_type": "markdown",
   "id": "e20f7dbc",
   "metadata": {},
   "source": [
    "This notebook guides you on how to reproduce figure 5 of the paper"
   ]
  },
  {
   "cell_type": "markdown",
   "id": "7435a8e3",
   "metadata": {},
   "source": [
    "Section ```Local scheduler - Offline mode``` from README file must have been previously followed"
   ]
  },
  {
   "cell_type": "code",
   "execution_count": null,
   "id": "f3a60a57",
   "metadata": {},
   "outputs": [],
   "source": [
    "import pandas as pd\n",
    "pd.options.mode.chained_assignment = None  # default='warn'\n",
    "import os.path\n",
    "import numpy as np\n",
    "import matplotlib.pyplot as plt\n",
    "import seaborn as sns"
   ]
  },
  {
   "cell_type": "code",
   "execution_count": null,
   "id": "7a62dd20",
   "metadata": {},
   "outputs": [],
   "source": [
    "dataset = pd.read_csv('debug/monitoring.csv', sep='\\t')\n",
    "\n",
    "keys_as_float = ['tmp', 'val', 'config', 'sb_oc', 'sb_unused']\n",
    "for key in keys_as_float: dataset[key] = dataset[key].apply(lambda x : None if x == 'None' else float(x))\n",
    "dataset['time'] = dataset['tmp'] / 60"
   ]
  },
  {
   "cell_type": "markdown",
   "id": "49996d40",
   "metadata": {},
   "source": [
    "# Overall experiment"
   ]
  },
  {
   "cell_type": "code",
   "execution_count": null,
   "id": "053382e2",
   "metadata": {},
   "outputs": [],
   "source": [
    "subsets = dataset.loc[dataset['rec'] == 'subset']\n",
    "subsets_cpu = subsets.loc[subsets['res'] == 'cpu']\n",
    "subsets_mem = subsets.loc[subsets['res'] == 'mem']"
   ]
  },
  {
   "cell_type": "markdown",
   "id": "701ec997",
   "metadata": {},
   "source": [
    "This figure resumes the experiment: a 12h session in which a ascendant number of 8-cores VMs were deployed under our local scheduler usinga specific oversubscription template.\n",
    "Specifically, each vCPU0 were not oversubscribed (i.e. proposed at a 1:1 ratio), each vCPU1 were proposed to a 1.5:1 ratio and vCPU2-7 to a 2.6:1 ratio"
   ]
  },
  {
   "cell_type": "markdown",
   "id": "2584b60f",
   "metadata": {},
   "source": [
    "In our context, a subset is a collection of physical cores on which vCPUs may be pinned. Each subset as an individual oversubscription ratio. Continuous lines referred to the size allocation (i.e. the number of physical CPUs associated to a given oversubscription level) whereas the transparent lines refers to the amount being used"
   ]
  },
  {
   "cell_type": "code",
   "execution_count": null,
   "id": "fc7d2d00",
   "metadata": {},
   "outputs": [],
   "source": [
    "palette = sns.color_palette(\"Set2\", subsets_cpu['subset'].nunique())\n",
    "\n",
    "g_val = sns.lineplot(data=subsets_cpu, x='tmp', y='val', hue='subset', palette=palette, linestyle='--', legend=False, alpha=0.5)\n",
    "g_config = sns.lineplot(data=subsets_cpu, x='tmp', y='config', hue='subset', palette=palette)\n",
    "g_config.legend(loc='upper right', title=None)\n",
    "\n",
    "plt.xlim([0, 30000])\n",
    "plt.ylim([0, 140])\n",
    "g_config.set_ylabel('cores')\n",
    "g_config.set_xlabel('time')\n",
    "res = g_config.set_xticklabels([])"
   ]
  },
  {
   "cell_type": "markdown",
   "id": "0c4668fe",
   "metadata": {},
   "source": [
    "# VM usage pattern"
   ]
  },
  {
   "cell_type": "code",
   "execution_count": null,
   "id": "2c3cd30b",
   "metadata": {},
   "outputs": [],
   "source": [
    "vms = dataset.loc[dataset['rec'] == 'vm']\n",
    "vms_cpu = vms.loc[vms['res'] == 'cpu']\n",
    "vms_mem = vms.loc[vms['res'] == 'mem']"
   ]
  },
  {
   "cell_type": "code",
   "execution_count": null,
   "id": "9241859c",
   "metadata": {},
   "outputs": [],
   "source": [
    "vms_cpu.tail()"
   ]
  },
  {
   "cell_type": "code",
   "execution_count": null,
   "id": "05fc4460",
   "metadata": {},
   "outputs": [],
   "source": [
    "print('Number of VMs:', vms_cpu['vm_cmn'].nunique())"
   ]
  },
  {
   "cell_type": "markdown",
   "id": "e14575dd",
   "metadata": {},
   "source": [
    "We now illustrate the diversity of CPU usage patterns among our hosted VMs"
   ]
  },
  {
   "cell_type": "code",
   "execution_count": null,
   "id": "58c0a4e6",
   "metadata": {},
   "outputs": [],
   "source": [
    "vms_cpu_focus = vms_cpu.loc[vms_cpu['vm_cmn'].isin(['vm1','vm2','vm3'])]\n",
    "vms_cpu_focus['core_used'] =  vms_cpu_focus['val'] * vms_cpu_focus['config']\n",
    "palette = sns.color_palette(\"Set2\", vms_cpu_focus['vm_cmn'].nunique())\n",
    "\n",
    "print('This step is time consuming...')\n",
    "g = sns.lineplot(data=vms_cpu_focus, x='tmp', y='core_used', hue='vm_cmn', palette=palette)\n",
    "g.set_ylabel('cores')\n",
    "g.set_xlabel('time')\n",
    "g.legend(loc='upper right', title=None)\n",
    "res = g.set_xticklabels([])"
   ]
  },
  {
   "cell_type": "markdown",
   "id": "081c5b2f",
   "metadata": {},
   "source": [
    "# Host load"
   ]
  },
  {
   "cell_type": "code",
   "execution_count": null,
   "id": "4fb1d10b",
   "metadata": {},
   "outputs": [],
   "source": [
    "host = dataset.loc[dataset['rec'] == 'global']\n",
    "host_cpu = host.loc[host['res'] == 'cpu']\n",
    "host_mem = host.loc[host['res'] == 'mem']"
   ]
  },
  {
   "cell_type": "markdown",
   "id": "471ba54a",
   "metadata": {},
   "source": [
    "We now report on host load during experiment"
   ]
  },
  {
   "cell_type": "code",
   "execution_count": null,
   "id": "0f210916",
   "metadata": {},
   "outputs": [],
   "source": [
    "host_cpu['core_used'] =  host_cpu['val'] * host_cpu['config']\n",
    "\n",
    "palette = sns.color_palette(\"Set2\", 2)\n",
    "\n",
    "g = sns.lineplot(data=host_cpu, x='tmp', y='core_used', color=palette[0])\n",
    "plt.hlines(host_cpu['config'].max(), xmin=0, xmax=host_cpu['tmp'].max(), colors=palette[1], linestyles='solid', label='config')\n",
    "g.set_xlabel('time')\n",
    "\n",
    "res = g.set_xticklabels([])"
   ]
  }
 ],
 "metadata": {
  "kernelspec": {
   "display_name": "Python 3 (ipykernel)",
   "language": "python",
   "name": "python3"
  },
  "language_info": {
   "codemirror_mode": {
    "name": "ipython",
    "version": 3
   },
   "file_extension": ".py",
   "mimetype": "text/x-python",
   "name": "python",
   "nbconvert_exporter": "python",
   "pygments_lexer": "ipython3",
   "version": "3.10.12"
  }
 },
 "nbformat": 4,
 "nbformat_minor": 5
}
